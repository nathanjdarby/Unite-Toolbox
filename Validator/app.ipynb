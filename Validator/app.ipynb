{
 "cells": [
  {
   "cell_type": "code",
   "execution_count": 120,
   "metadata": {},
   "outputs": [],
   "source": [
    "# Importing necessary libraries\n",
    "import requests\n",
    "from bs4 import BeautifulSoup"
   ]
  },
  {
   "cell_type": "code",
   "execution_count": 121,
   "metadata": {},
   "outputs": [],
   "source": [
    "# Define the URL of the site we want to scrape\n",
    "url = 'https://surveys.unitetheunion.org/233264155237353'"
   ]
  },
  {
   "cell_type": "code",
   "execution_count": 122,
   "metadata": {},
   "outputs": [],
   "source": [
    "# Send a GET request to the website\n",
    "response = requests.get(url)"
   ]
  },
  {
   "cell_type": "code",
   "execution_count": 123,
   "metadata": {},
   "outputs": [
    {
     "data": {
      "text/plain": [
       "[' Membership Number* ',\n",
       " ' Job Title* ',\n",
       " ' PAY OFFER 2024 ',\n",
       " ' Should the majority of members reject the offer, I would be willing to take part in strike action ',\n",
       " ' Workplace Code ',\n",
       " ' Job Code ']"
      ]
     },
     "execution_count": 123,
     "metadata": {},
     "output_type": "execute_result"
    }
   ],
   "source": [
    "# Check if the request was successful\n",
    "if response.status_code == 200:\n",
    "    # Parse the content of the request with BeautifulSoup\n",
    "    soup = BeautifulSoup(response.text, 'html.parser')\n",
    "    \n",
    "    # Select all the 'a' tags with the class 'titlelink' which contains the titles of the posts\n",
    "    titles = soup.select('.form-label')\n",
    "    \n",
    "    # Extract the text from each title tag\n",
    "    top_titles = [title.get_text() for title in titles]\n",
    "else:\n",
    "    top_titles = 'Failed to retrieve data'\n",
    "\n",
    "top_titles[:-1]  # Display the top 5 titles to keep the output concise"
   ]
  },
  {
   "cell_type": "code",
   "execution_count": 124,
   "metadata": {},
   "outputs": [
    {
     "name": "stdout",
     "output_type": "stream",
     "text": [
      "Label with the text \"Membership Number\" found.\n"
     ]
    }
   ],
   "source": [
    "# Check if the request was successful\n",
    "if response.status_code == 200:\n",
    "    # Parse the content of the request with BeautifulSoup\n",
    "    soup = BeautifulSoup(response.text, 'html.parser')\n",
    "    \n",
    "    # Find all label tags in the HTML\n",
    "    labels = soup.find_all('label')\n",
    "\n",
    "    # Check if any label contains the text \"Membership Number\"\n",
    "    membership_label_exists = any(\"Membership Number\" in label.text for label in labels)\n",
    "\n",
    "    # Print the result\n",
    "    if membership_label_exists:\n",
    "        print('Label with the text \"Membership Number\" found.')\n",
    "    else:\n",
    "        print('Label with the text \"Membership Number\" not found.')\n",
    "else:\n",
    "    print('Failed to retrieve data')"
   ]
  },
  {
   "cell_type": "code",
   "execution_count": 125,
   "metadata": {},
   "outputs": [],
   "source": [
    "# Checks for read only and required"
   ]
  },
  {
   "cell_type": "code",
   "execution_count": 126,
   "metadata": {},
   "outputs": [
    {
     "name": "stdout",
     "output_type": "stream",
     "text": [
      "Input with \"form-readonly\" class present: False\n",
      "Input with \"validate[required]\" class present: True\n",
      "Input name ends with \"MembershipNumber\": True\n"
     ]
    }
   ],
   "source": [
    "# Check if the request was successful\n",
    "if response.status_code == 200:\n",
    "    # Parse the content of the request with BeautifulSoup\n",
    "    soup = BeautifulSoup(response.text, 'html.parser')\n",
    "    \n",
    "    # Find the label that contains the text \"Membership Number\"\n",
    "    label = soup.find(lambda tag: tag.name == \"label\" and \"Membership Number\" in tag.text)\n",
    "    \n",
    "    # Initialize variables to keep track of the classes and name presence\n",
    "    has_form_readonly = False\n",
    "    has_validate_required = False\n",
    "    has_membership_number_at_end = False\n",
    "\n",
    "    # If the label is found, find the associated input element by its id\n",
    "    if label:\n",
    "        input_id = label.get('for')\n",
    "        input_element = soup.find('input', id=input_id)\n",
    "\n",
    "        # Check if the input element has the class \"form-readonly\"\n",
    "        if input_element:\n",
    "            classes = input_element.get('class', [])\n",
    "            has_form_readonly = 'form-readonly' in classes\n",
    "            has_validate_required = 'validate[required]' in classes\n",
    "            \n",
    "            # Check if the 'name' attribute ends with \"MembershipNumber\"\n",
    "            name_attribute = input_element.get('name', '')\n",
    "            if name_attribute.endswith(\"MembershipNumber\"):\n",
    "                has_membership_number_at_end = True\n",
    "            else:\n",
    "                has_membership_number_at_end = False\n",
    "                \n",
    "    # Inform the user what the actual name tag is\n",
    "    actual_name_message = f'The unique name is: {name_attribute}'\n",
    "\n",
    "    # Print the results\n",
    "    print(f'Input with \"form-readonly\" class present: {has_form_readonly}')\n",
    "    print(f'Input with \"validate[required]\" class present: {has_validate_required}')\n",
    "    print(f'Input name ends with \"MembershipNumber\": {has_membership_number_at_end}')\n",
    "    # Print the actual name tag message if the condition is false\n",
    "    if not has_membership_number_at_end:\n",
    "        print(actual_name_message)\n",
    "else:\n",
    "    print('Failed to retrieve data')\n",
    "\n",
    "    # Print the actual name tag message if the condition is false\n",
    "    "
   ]
  }
 ],
 "metadata": {
  "kernelspec": {
   "display_name": "Python 3",
   "language": "python",
   "name": "python3"
  },
  "language_info": {
   "codemirror_mode": {
    "name": "ipython",
    "version": 3
   },
   "file_extension": ".py",
   "mimetype": "text/x-python",
   "name": "python",
   "nbconvert_exporter": "python",
   "pygments_lexer": "ipython3",
   "version": "3.11.3"
  }
 },
 "nbformat": 4,
 "nbformat_minor": 2
}
